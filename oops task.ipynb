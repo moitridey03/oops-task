{
 "cells": [
  {
   "cell_type": "markdown",
   "id": "6229a69d-3dd0-42d6-bfdb-905ae50f5762",
   "metadata": {},
   "source": [
    "Q1, Create a vehicle class with an init method having instance variables as name_of_vehicle, max_speed\n",
    "and average_of_vehicle."
   ]
  },
  {
   "cell_type": "markdown",
   "id": "dab9fafc-2678-4ae9-b22c-fedcbdd5a431",
   "metadata": {},
   "source": [
    "class Vehicle:\n",
    "    def __init__(self, name_of_vehicle, max_speed, average_of_vehicle):\n",
    "        self.name_of_vehicle = name_of_vehicle\n",
    "        self.max_speed = max_speed\n",
    "        self.average_of_vehicle = average_of_vehicle\n"
   ]
  },
  {
   "cell_type": "markdown",
   "id": "c185e86f-6152-414f-a1af-d5bb9f9968ab",
   "metadata": {},
   "source": [
    "Q2. Create a child class car from the vehicle class created in Que 1, which will inherit the vehicle class.\n",
    "Create a method named seating_capacity which takes capacity as an argument and returns the name of\n",
    "the vehicle and its seating capacity."
   ]
  },
  {
   "cell_type": "code",
   "execution_count": 2,
   "id": "909c029d-727d-491d-ba35-84f829dd8059",
   "metadata": {},
   "outputs": [
    {
     "name": "stdout",
     "output_type": "stream",
     "text": [
      "Name: Toyota Camry\n",
      "Maximum Speed: 180\n",
      "Toyota Camry has a seating capacity of 5 passengers.\n"
     ]
    }
   ],
   "source": [
    "class Vehicle:\n",
    "    def __init__(self, name, max_speed):\n",
    "        self.name = name\n",
    "        self.max_speed = max_speed\n",
    "\n",
    "    def display(self):\n",
    "        print(\"Name:\", self.name)\n",
    "        print(\"Maximum Speed:\", self.max_speed)\n",
    "\n",
    "\n",
    "class Car(Vehicle):\n",
    "    def seating_capacity(self, capacity):\n",
    "        return f\"{self.name} has a seating capacity of {capacity} passengers.\"\n",
    "\n",
    "\n",
    "# Example usage:\n",
    "car1 = Car(\"Toyota Camry\", 180)\n",
    "car1.display()\n",
    "print(car1.seating_capacity(5))\n"
   ]
  },
  {
   "cell_type": "markdown",
   "id": "10640d36-1e4b-4166-b958-17a84b948037",
   "metadata": {},
   "source": [
    "Q3. What is multiple inheritance? Write a python code to demonstrate multiple inheritance."
   ]
  },
  {
   "cell_type": "markdown",
   "id": "da5a658c-9b4a-4fc6-a3a2-8d963e2861e5",
   "metadata": {},
   "source": [
    "Multiple inheritance in object-oriented programming refers to the capability of a class to inherit attributes and methods from more than one parent class. In Python, a class can inherit from multiple parent classes, allowing it to access attributes and methods from each parent class.\n",
    "\n",
    "Here's a Python code example demonstrating multiple inheritance:"
   ]
  },
  {
   "cell_type": "code",
   "execution_count": 3,
   "id": "52725196-98af-4320-916c-4613e7706ccd",
   "metadata": {},
   "outputs": [
    {
     "name": "stdout",
     "output_type": "stream",
     "text": [
      "Method from class A\n",
      "Method from class B\n",
      "Method from class C\n"
     ]
    }
   ],
   "source": [
    "# Define parent class A\n",
    "class A:\n",
    "    def method_A(self):\n",
    "        print(\"Method from class A\")\n",
    "\n",
    "# Define parent class B\n",
    "class B:\n",
    "    def method_B(self):\n",
    "        print(\"Method from class B\")\n",
    "\n",
    "# Define child class C inheriting from classes A and B\n",
    "class C(A, B):\n",
    "    def method_C(self):\n",
    "        print(\"Method from class C\")\n",
    "\n",
    "# Create an instance of class C\n",
    "obj_C = C()\n",
    "\n",
    "# Access methods from class A\n",
    "obj_C.method_A()\n",
    "\n",
    "# Access methods from class B\n",
    "obj_C.method_B()\n",
    "\n",
    "# Access method from class C\n",
    "obj_C.method_C()\n"
   ]
  },
  {
   "cell_type": "markdown",
   "id": "637858c3-77f9-44ae-981e-418ddd44eb8d",
   "metadata": {},
   "source": [
    "Q4. What are getter and setter in python? Create a class and create a getter and a setter method in this\n",
    "class."
   ]
  },
  {
   "cell_type": "markdown",
   "id": "539c0342-cc11-4fd3-96c2-a84e7636606e",
   "metadata": {},
   "source": [
    "In Python, getters and setters are methods used to access and modify the attributes of a class, respectively. They are commonly used to enforce encapsulation and control access to class variables.\n",
    "\n",
    "A getter method retrieves the current value of an attribute, while a setter method updates the value of an attribute. This helps in maintaining data integrity and controlling how attributes are accessed and modified.\n",
    "\n",
    "Below is an example of a Python class with a getter and a setter method:"
   ]
  },
  {
   "cell_type": "code",
   "execution_count": 4,
   "id": "a36ef535-28bd-4253-8cdb-2fcd1ee12beb",
   "metadata": {},
   "outputs": [
    {
     "name": "stdout",
     "output_type": "stream",
     "text": [
      "Width: 5\n",
      "Height: 10\n",
      "Updated Width: 8\n",
      "Updated Height: 12\n"
     ]
    }
   ],
   "source": [
    "class Rectangle:\n",
    "    def __init__(self, width, height):\n",
    "        self._width = width\n",
    "        self._height = height\n",
    "\n",
    "    def get_width(self):\n",
    "        return self._width\n",
    "\n",
    "    def set_width(self, width):\n",
    "        if width > 0:\n",
    "            self._width = width\n",
    "        else:\n",
    "            print(\"Width must be greater than 0.\")\n",
    "\n",
    "    def get_height(self):\n",
    "        return self._height\n",
    "\n",
    "    def set_height(self, height):\n",
    "        if height > 0:\n",
    "            self._height = height\n",
    "        else:\n",
    "            print(\"Height must be greater than 0.\")\n",
    "\n",
    "# Creating an instance of the Rectangle class\n",
    "rectangle = Rectangle(5, 10)\n",
    "\n",
    "# Getting the width and height of the rectangle\n",
    "print(\"Width:\", rectangle.get_width())\n",
    "print(\"Height:\", rectangle.get_height())\n",
    "\n",
    "# Setting new values for width and height using setter methods\n",
    "rectangle.set_width(8)\n",
    "rectangle.set_height(12)\n",
    "\n",
    "# Getting the updated width and height\n",
    "print(\"Updated Width:\", rectangle.get_width())\n",
    "print(\"Updated Height:\", rectangle.get_height())\n"
   ]
  },
  {
   "cell_type": "markdown",
   "id": "4f0006d1-e008-4593-b2db-55105c9986af",
   "metadata": {},
   "source": [
    "Q5.What is method overriding in python? Write a python code to demonstrate method overriding."
   ]
  },
  {
   "cell_type": "markdown",
   "id": "6a40c3a6-f0c2-4bf2-b806-275dcd040984",
   "metadata": {},
   "source": [
    "Method overriding in Python refers to the ability of a subclass to provide a specific implementation of a method that is already defined in its superclass. This allows a subclass to modify or extend the behavior of the method inherited from its superclass. Method overriding is a key feature of object-oriented programming (OOP) that enables polymorphism, where objects of different classes can be treated interchangeably based on their common interface.\n",
    "\n",
    "Here's a Python code example demonstrating method overriding:"
   ]
  },
  {
   "cell_type": "code",
   "execution_count": 5,
   "id": "c97399a3-d49f-4381-97b4-c902d3f3f4ab",
   "metadata": {},
   "outputs": [
    {
     "name": "stdout",
     "output_type": "stream",
     "text": [
      "Dog barks\n",
      "Cat meows\n"
     ]
    }
   ],
   "source": [
    "class Animal:\n",
    "    def make_sound(self):\n",
    "        print(\"Animal makes a generic sound\")\n",
    "\n",
    "class Dog(Animal):\n",
    "    def make_sound(self):\n",
    "        print(\"Dog barks\")\n",
    "\n",
    "class Cat(Animal):\n",
    "    def make_sound(self):\n",
    "        print(\"Cat meows\")\n",
    "\n",
    "# Creating objects of Dog and Cat classes\n",
    "dog = Dog()\n",
    "cat = Cat()\n",
    "\n",
    "# Calling the overridden method for each object\n",
    "dog.make_sound()  # Output: Dog barks\n",
    "cat.make_sound()  # Output: Cat meows\n"
   ]
  },
  {
   "cell_type": "code",
   "execution_count": null,
   "id": "eb008adf-fc95-4bee-b653-3cd8c4562862",
   "metadata": {},
   "outputs": [],
   "source": []
  }
 ],
 "metadata": {
  "kernelspec": {
   "display_name": "Python 3 (ipykernel)",
   "language": "python",
   "name": "python3"
  },
  "language_info": {
   "codemirror_mode": {
    "name": "ipython",
    "version": 3
   },
   "file_extension": ".py",
   "mimetype": "text/x-python",
   "name": "python",
   "nbconvert_exporter": "python",
   "pygments_lexer": "ipython3",
   "version": "3.10.8"
  }
 },
 "nbformat": 4,
 "nbformat_minor": 5
}

